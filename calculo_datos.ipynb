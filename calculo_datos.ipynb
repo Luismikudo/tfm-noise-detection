{
 "cells": [
  {
   "cell_type": "code",
   "execution_count": 1,
   "id": "88b3e8cc",
   "metadata": {},
   "outputs": [],
   "source": [
    "import pandas as pd\n",
    "import math\n",
    "from unidecode import unidecode\n",
    "import numpy as np\n",
    "import scipy.io\n",
    "from scipy.optimize import minimize\n",
    "from scipy.stats import norm\n",
    "import matplotlib.pyplot as plt\n",
    "import os\n",
    "\n",
    "\n",
    "from scipy.stats import linregress\n",
    "\n",
    "PATH_UPV = \"./DatosExperimento1/UPV\"\n",
    "PATH_UGR = \"./DatosExperimento1/UGR\"\n",
    "PATH_VARIABLES = \"./variables\"\n",
    "\n",
    "if not os.path.exists('variables'):\n",
    "    os.makedirs('variables') \n",
    "\n",
    "# Leer el archivo Excel en un DataFrame de pandas\n",
    "df_upv = pd.read_excel(PATH_UPV+'/Exp1_Observadores_UPV.xlsx')\n",
    "df_ugr = pd.read_excel(PATH_UGR+'/Exp1_Observadores_UGR.xlsx')\n",
    "    \n",
    "if not os.path.exists('Resultados_UPV'):\n",
    "    os.makedirs('Resultados_UPV')    \n",
    "\n",
    "RESULTS_PATH_UPV = 'Resultados_UPV/0-PROMEDIOS'\n",
    "if not os.path.exists(RESULTS_PATH_UPV):\n",
    "    os.makedirs(RESULTS_PATH_UPV)\n",
    "\n",
    "if not os.path.exists('Resultados_UGR'):\n",
    "    os.makedirs('Resultados_UGR')\n",
    "    \n",
    "RESULTS_PATH_UGR = 'Resultados_UGR/0-PROMEDIOS'\n",
    "if not os.path.exists(RESULTS_PATH_UGR):\n",
    "    os.makedirs(RESULTS_PATH_UGR)\n",
    "    \n",
    "if not os.path.exists('Resultados_TOTAL'):\n",
    "    os.makedirs('Resultados_TOTAL')\n",
    "    \n",
    "RESULTS_PATH_TOTAL = 'Resultados_TOTAL'\n",
    "\n",
    "# Array de ficheros .mat, nos da igual el volunatrio\n",
    "ficheros_upv = []\n",
    "ficheros_ugr = []\n",
    "ficheros_total = []\n",
    "\n",
    "# Iterar sobre cada fila del DataFrame\n",
    "for idx, row in df_upv.iterrows():\n",
    "    ficheros_upv.append(row['Fichero'])\n",
    "    ficheros_total.append(PATH_UPV+\"/\"+row['Fichero'])\n",
    "    \n",
    "for idx, row in df_ugr.iterrows():\n",
    "    ficheros_ugr.append(row['Fichero'])\n",
    "    ficheros_total.append(PATH_UGR+\"/\"+row['Fichero'])"
   ]
  },
  {
   "cell_type": "code",
   "execution_count": 2,
   "id": "adad444c",
   "metadata": {},
   "outputs": [],
   "source": [
    "def normcdf2(x, mu, sigma):\n",
    "    '''\n",
    "    Utilizo la función norm.cdf de la librería scipy.stats para calcular la función de distribución acumulada (CDF) \n",
    "    de la distribución normal, y luego dividimos el resultado por dos y sumamos 0.5 para ajustar el rango a [0,1].\n",
    "    '''\n",
    "    y = (norm.cdf(x, mu, sigma) + 1) / 2\n",
    "    return y\n",
    "\n",
    "def normcdf2_minimizer(X, params):\n",
    "    # X incluye mu y sigma\n",
    "    mu = X[0]\n",
    "    sigma = X[1]\n",
    "\n",
    "    # x/y valores para ajustar\n",
    "    x = params['x']\n",
    "    y = params['y']\n",
    "\n",
    "    # los valores ajustados con mu y sigma dados\n",
    "    yfit = normcdf2(x, mu, sigma)\n",
    "\n",
    "    # cálculo del error\n",
    "    err = np.sum((yfit - y)**2)\n",
    "\n",
    "    return err"
   ]
  },
  {
   "cell_type": "code",
   "execution_count": 3,
   "id": "d195be9a",
   "metadata": {},
   "outputs": [],
   "source": [
    "# Variables generales\n",
    "ruidos = scipy.io.loadmat('ruidosExp1.mat')\n",
    "ruidos = np.array(ruidos['ruidos'])\n",
    "minX = np.min(ruidos[:, 2])\n",
    "maxX = np.max(ruidos[:, 2])\n",
    "LoopNumber = 16\n",
    "numberObservations = 10"
   ]
  },
  {
   "cell_type": "code",
   "execution_count": 4,
   "id": "04ca3e01",
   "metadata": {},
   "outputs": [],
   "source": [
    "# UPV\n",
    "mean_result_upv = None\n",
    "mean_std_upv = []\n",
    "for fichero in ficheros_upv:\n",
    "    data_file = PATH_UPV+'/'+fichero\n",
    "    result = scipy.io.loadmat(data_file)\n",
    "    result = np.array(result['Results'])\n",
    "    if mean_result_upv is None:\n",
    "        mean_result_upv = result\n",
    "    else:\n",
    "        mean_result_upv = mean_result_upv + result \n",
    "        # Suma de los resultados\n",
    "        # Promediar la probabilidad y Promediar el tiempo\n",
    "mean_result_upv = mean_result_upv/len(ficheros_upv) # Media de los resultados para todos los ficheros de la UPV\n",
    "    \n",
    "\n",
    "for i in range(LoopNumber):\n",
    "    x = ruidos[i*numberObservations:(i+1)*numberObservations, 2]\n",
    "    ruido_base = ruidos[i*numberObservations:(i+1)*numberObservations, 0][0]\n",
    "    y = mean_result_upv[i*numberObservations:(i+1)*numberObservations, 0]\n",
    "\n",
    "    # Valores iniciales de la minimización\n",
    "    X0 = [np.mean(x), 0.1*np.mean(x)]\n",
    "\n",
    "    # parámetros para el ajuste\n",
    "    params = {'x': x, 'y': y}\n",
    "\n",
    "    # minimización\n",
    "    ParamsOpt = minimize(normcdf2_minimizer, X0, args=params, method='Nelder-Mead').x\n",
    "\n",
    "    # media y la desviación estándar de la distribución ajustada\n",
    "    # Se corresponde al umbral, ruido correspondiente a una prob de detección de 0.75\n",
    "    meanAndStdDistrib = [ParamsOpt[0], ParamsOpt[1]]\n",
    "    \n",
    "    mean_std_upv.append((ruido_base, round(ParamsOpt[0], 6), round(ParamsOpt[1], 6)))\n",
    "    np.save(RESULTS_PATH_UPV+'/UPV-MeanStdDistribution-' + str(i+1) + '.npy', meanAndStdDistrib)"
   ]
  },
  {
   "cell_type": "code",
   "execution_count": 5,
   "id": "179a6588",
   "metadata": {
    "scrolled": true
   },
   "outputs": [
    {
     "name": "stdout",
     "output_type": "stream",
     "text": [
      "[(0.01, 0.011607, 0.002403), (0.02, 0.025164, 0.005649), (0.03, 0.039522, 0.009064), (0.04, 0.053994, 0.011909)]\n",
      "[(0.01, 0.012196, 0.00296), (0.02, 0.02368, 0.004724), (0.03, 0.036786, 0.008197), (0.04, 0.049028, 0.007125)]\n",
      "[(0.01, 0.012747, 0.002871), (0.02, 0.022552, 0.005572), (0.03, 0.032933, 0.01064), (0.04, 0.043185, 0.015927)]\n",
      "[(0.01, 0.014579, 0.001328), (0.02, 0.027725, 0.008075), (0.03, 0.037835, 0.009188), (0.04, 0.046935, 0.011525)]\n"
     ]
    },
    {
     "data": {
      "text/plain": [
       "[(0.01, 0.011607, 0.002403),\n",
       " (0.02, 0.025164, 0.005649),\n",
       " (0.03, 0.039522, 0.009064),\n",
       " (0.04, 0.053994, 0.011909),\n",
       " (0.01, 0.012196, 0.00296),\n",
       " (0.02, 0.02368, 0.004724),\n",
       " (0.03, 0.036786, 0.008197),\n",
       " (0.04, 0.049028, 0.007125),\n",
       " (0.01, 0.012747, 0.002871),\n",
       " (0.02, 0.022552, 0.005572),\n",
       " (0.03, 0.032933, 0.01064),\n",
       " (0.04, 0.043185, 0.015927),\n",
       " (0.01, 0.014579, 0.001328),\n",
       " (0.02, 0.027725, 0.008075),\n",
       " (0.03, 0.037835, 0.009188),\n",
       " (0.04, 0.046935, 0.011525)]"
      ]
     },
     "execution_count": 5,
     "metadata": {},
     "output_type": "execute_result"
    }
   ],
   "source": [
    "data_upv = [row for row in [mean_std_upv[i:i+4] for i in range(0, 16, 4)]]\n",
    "for row in data_upv:\n",
    "    print(row)\n",
    "\n",
    "np.save(PATH_VARIABLES+'/data_upv.npy', data_upv)\n",
    "np.save(PATH_VARIABLES+'/mean_std_upv.npy', mean_std_upv)\n",
    "mean_std_upv"
   ]
  },
  {
   "cell_type": "code",
   "execution_count": 6,
   "id": "843b9d43",
   "metadata": {},
   "outputs": [],
   "source": [
    "# UGR\n",
    "mean_result_ugr = None\n",
    "mean_std_ugr = []\n",
    "for fichero in ficheros_ugr:\n",
    "    data_file = PATH_UGR+'/'+fichero\n",
    "    result = scipy.io.loadmat(data_file)\n",
    "    result = np.array(result['Results'])\n",
    "    if mean_result_ugr is None:\n",
    "        mean_result_ugr = result\n",
    "    else:\n",
    "        mean_result_ugr = mean_result_ugr + result \n",
    "        # Suma de los resultados\n",
    "        # Promediar la probabilidad y Promediar el tiempo\n",
    "mean_result_ugr = mean_result_ugr/len(ficheros_ugr) # Media de los resultados para todos los ficheros de la UGR\n",
    "    \n",
    "\n",
    "for i in range(LoopNumber):\n",
    "    x = ruidos[i*numberObservations:(i+1)*numberObservations, 2]\n",
    "    ruido_base = ruidos[i*numberObservations:(i+1)*numberObservations, 0][0]\n",
    "    y = mean_result_ugr[i*numberObservations:(i+1)*numberObservations, 0]\n",
    "\n",
    "    # Valores iniciales de la minimización\n",
    "    X0 = [np.mean(x), 0.1*np.mean(x)]\n",
    "\n",
    "    # parámetros para el ajuste\n",
    "    params = {'x': x, 'y': y}\n",
    "\n",
    "    # minimización\n",
    "    ParamsOpt = minimize(normcdf2_minimizer, X0, args=params, method='Nelder-Mead').x\n",
    "\n",
    "    # media y la desviación estándar de la distribución ajustada\n",
    "    meanAndStdDistrib = [ParamsOpt[0], ParamsOpt[1]]\n",
    "    \n",
    "    mean_std_ugr.append((ruido_base, round(ParamsOpt[0], 6), round(ParamsOpt[1], 6)))\n",
    "    np.save(RESULTS_PATH_UGR+'/UGR-MeanStdDistribution-' + str(i+1) + '.npy', meanAndStdDistrib)"
   ]
  },
  {
   "cell_type": "code",
   "execution_count": 7,
   "id": "9f00d0eb",
   "metadata": {},
   "outputs": [
    {
     "name": "stdout",
     "output_type": "stream",
     "text": [
      "[(0.01, 0.010867, 0.001107), (0.02, 0.022187, 0.003187), (0.03, 0.034682, 0.006838), (0.04, 0.047834, 0.007186)]\n",
      "[(0.01, 0.011123, 0.001766), (0.02, 0.022106, 0.002299), (0.03, 0.032921, 0.004147), (0.04, 0.043683, 0.004548)]\n",
      "[(0.01, 0.011551, 0.002026), (0.02, 0.020899, 0.003275), (0.03, 0.030758, 0.004312), (0.04, 0.040668, 0.006249)]\n",
      "[(0.01, 0.01439, 0.00196), (0.02, 0.024073, 0.002754), (0.03, 0.03334, 0.004492), (0.04, 0.043154, 0.006503)]\n"
     ]
    },
    {
     "data": {
      "text/plain": [
       "[(0.01, 0.010867, 0.001107),\n",
       " (0.02, 0.022187, 0.003187),\n",
       " (0.03, 0.034682, 0.006838),\n",
       " (0.04, 0.047834, 0.007186),\n",
       " (0.01, 0.011123, 0.001766),\n",
       " (0.02, 0.022106, 0.002299),\n",
       " (0.03, 0.032921, 0.004147),\n",
       " (0.04, 0.043683, 0.004548),\n",
       " (0.01, 0.011551, 0.002026),\n",
       " (0.02, 0.020899, 0.003275),\n",
       " (0.03, 0.030758, 0.004312),\n",
       " (0.04, 0.040668, 0.006249),\n",
       " (0.01, 0.01439, 0.00196),\n",
       " (0.02, 0.024073, 0.002754),\n",
       " (0.03, 0.03334, 0.004492),\n",
       " (0.04, 0.043154, 0.006503)]"
      ]
     },
     "execution_count": 7,
     "metadata": {},
     "output_type": "execute_result"
    }
   ],
   "source": [
    "data_ugr = [row for row in [mean_std_ugr[i:i+4] for i in range(0, 16, 4)]]\n",
    "for row in data_ugr:\n",
    "    print(row)\n",
    "    \n",
    "np.save(PATH_VARIABLES+'/data_ugr.npy', data_ugr)\n",
    "np.save(PATH_VARIABLES+'/mean_std_ugr.npy', mean_std_ugr)\n",
    "mean_std_ugr"
   ]
  },
  {
   "cell_type": "code",
   "execution_count": 8,
   "id": "341a5a36",
   "metadata": {},
   "outputs": [],
   "source": [
    "# TOTAL UGR + UPV\n",
    "mean_result_total = None\n",
    "mean_std_total = []\n",
    "for fichero in ficheros_total:\n",
    "    data_file = fichero\n",
    "    result = scipy.io.loadmat(data_file)\n",
    "    result = np.array(result['Results'])\n",
    "    if mean_result_total is None:\n",
    "        mean_result_total = result\n",
    "    else:\n",
    "        mean_result_total = mean_result_total + result \n",
    "        # Suma de los resultados\n",
    "        # Promediar la probabilidad y Promediar el tiempo\n",
    "mean_result_total = mean_result_total/len(ficheros_total) # Media de los resultados para todos los ficheros de la TOTAL\n",
    "    \n",
    "\n",
    "for i in range(LoopNumber):\n",
    "    x = ruidos[i*numberObservations:(i+1)*numberObservations, 2]\n",
    "    ruido_base = ruidos[i*numberObservations:(i+1)*numberObservations, 0][0]\n",
    "    y = mean_result_total[i*numberObservations:(i+1)*numberObservations, 0]\n",
    "\n",
    "    # Valores iniciales de la minimización\n",
    "    X0 = [np.mean(x), 0.1*np.mean(x)]\n",
    "\n",
    "    # parámetros para el ajuste\n",
    "    params = {'x': x, 'y': y}\n",
    "\n",
    "    # minimización\n",
    "    ParamsOpt = minimize(normcdf2_minimizer, X0, args=params, method='Nelder-Mead').x\n",
    "\n",
    "    # media y la desviación estándar de la distribución ajustada\n",
    "    meanAndStdDistrib = [ParamsOpt[0], ParamsOpt[1]]\n",
    "\n",
    "    mean_std_total.append((ruido_base, round(ParamsOpt[0], 6), round(ParamsOpt[1], 6)))\n",
    "    np.save(RESULTS_PATH_TOTAL+'/TOTAL-MeanStdDistribution-' + str(i+1) + '.npy', meanAndStdDistrib)"
   ]
  },
  {
   "cell_type": "code",
   "execution_count": 9,
   "id": "7057adff",
   "metadata": {},
   "outputs": [
    {
     "name": "stdout",
     "output_type": "stream",
     "text": [
      "[(0.01, 0.011109, 0.001602), (0.02, 0.023179, 0.004269), (0.03, 0.036551, 0.0079), (0.04, 0.049895, 0.008882)]\n",
      "[(0.01, 0.011517, 0.002267), (0.02, 0.022611, 0.003197), (0.03, 0.034158, 0.00583), (0.04, 0.045681, 0.006012)]\n",
      "[(0.01, 0.011995, 0.002395), (0.02, 0.021421, 0.004373), (0.03, 0.031045, 0.007363), (0.04, 0.040944, 0.010311)]\n",
      "[(0.01, 0.014554, 0.001798), (0.02, 0.024944, 0.00401), (0.03, 0.034783, 0.006386), (0.04, 0.044452, 0.008614)]\n"
     ]
    },
    {
     "data": {
      "text/plain": [
       "[(0.01, 0.011109, 0.001602),\n",
       " (0.02, 0.023179, 0.004269),\n",
       " (0.03, 0.036551, 0.0079),\n",
       " (0.04, 0.049895, 0.008882),\n",
       " (0.01, 0.011517, 0.002267),\n",
       " (0.02, 0.022611, 0.003197),\n",
       " (0.03, 0.034158, 0.00583),\n",
       " (0.04, 0.045681, 0.006012),\n",
       " (0.01, 0.011995, 0.002395),\n",
       " (0.02, 0.021421, 0.004373),\n",
       " (0.03, 0.031045, 0.007363),\n",
       " (0.04, 0.040944, 0.010311),\n",
       " (0.01, 0.014554, 0.001798),\n",
       " (0.02, 0.024944, 0.00401),\n",
       " (0.03, 0.034783, 0.006386),\n",
       " (0.04, 0.044452, 0.008614)]"
      ]
     },
     "execution_count": 9,
     "metadata": {},
     "output_type": "execute_result"
    }
   ],
   "source": [
    "data_total = [row for row in [mean_std_total[i:i+4] for i in range(0, 16, 4)]]\n",
    "for row in data_total:\n",
    "    print(row)\n",
    "    \n",
    "np.save(PATH_VARIABLES+'/data_total.npy', data_total)\n",
    "np.save(PATH_VARIABLES+'/mean_std_total.npy', mean_std_total)\n",
    "mean_std_total"
   ]
  }
 ],
 "metadata": {
  "kernelspec": {
   "display_name": "Python 3 (ipykernel)",
   "language": "python",
   "name": "python3"
  },
  "language_info": {
   "codemirror_mode": {
    "name": "ipython",
    "version": 3
   },
   "file_extension": ".py",
   "mimetype": "text/x-python",
   "name": "python",
   "nbconvert_exporter": "python",
   "pygments_lexer": "ipython3",
   "version": "3.8.12"
  }
 },
 "nbformat": 4,
 "nbformat_minor": 5
}
